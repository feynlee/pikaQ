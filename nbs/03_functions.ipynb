{
 "cells": [
  {
   "attachments": {},
   "cell_type": "markdown",
   "metadata": {},
   "source": [
    "# Functions\n",
    "\n",
    "> Some commonly used SQL Functions."
   ]
  },
  {
   "cell_type": "code",
   "execution_count": null,
   "metadata": {},
   "outputs": [],
   "source": [
    "#| default_exp functions\n",
    "#| hide\n",
    "from nbdev.showdoc import *\n",
    "from fastcore.test import *\n",
    "# allow multiple output from one cell\n",
    "from IPython.core.interactiveshell import InteractiveShell\n",
    "InteractiveShell.ast_node_interactivity = \"all\"\n",
    "%reload_ext autoreload\n",
    "%autoreload 2"
   ]
  },
  {
   "cell_type": "code",
   "execution_count": null,
   "metadata": {},
   "outputs": [],
   "source": [
    "#|export\n",
    "from pikaQ.utils import execute\n",
    "from pikaQ.terms import FieldBase, Field, custom_func"
   ]
  },
  {
   "cell_type": "code",
   "execution_count": null,
   "metadata": {},
   "outputs": [],
   "source": [
    "#|export\n",
    "class CustomFunction(FieldBase):\n",
    "    def __init__(self, func_name, arg_names) -> None:\n",
    "        super().__init__()\n",
    "        self.func_name = func_name\n",
    "        self.arg_names = arg_names\n",
    "        self.get_sql = self.execute\n",
    "    \n",
    "    def __call__(self, *args):\n",
    "        if len(args) != len(self.arg_names):\n",
    "            raise ValueError(f\"The number of args provided {len(args)} is not the same as the number of args expected by this function ({len(self.arg_names)})!\")\n",
    "        def func(*args):\n",
    "            return f\"{self.func_name}({', '.join(args)})\"\n",
    "\n",
    "        self.func = func\n",
    "        self.args = args\n",
    "        return self\n",
    "\n",
    "    def execute(self, **kwargs):\n",
    "        args = [execute(arg, **kwargs) for arg in self.args]\n",
    "        return self.func(*args)\n",
    "\n"
   ]
  },
  {
   "attachments": {},
   "cell_type": "markdown",
   "metadata": {},
   "source": [
    "`CustomFunction` is a convenient class to create a custom SQL function with the name, and positional arguments, if you don't need the function to be parsed differently for different dialects."
   ]
  },
  {
   "cell_type": "code",
   "execution_count": null,
   "metadata": {},
   "outputs": [
    {
     "data": {
      "text/plain": [
       "'DATE_DIFF(day, start_date, end_date)'"
      ]
     },
     "execution_count": null,
     "metadata": {},
     "output_type": "execute_result"
    }
   ],
   "source": [
    "date_diff = CustomFunction('DATE_DIFF', ['interval', 'start_date', 'end_date'])\n",
    "date_diff('day', 'start_date', 'end_date').get_sql()"
   ]
  },
  {
   "cell_type": "code",
   "execution_count": null,
   "metadata": {},
   "outputs": [],
   "source": [
    "date_diff = CustomFunction('DATE_DIFF', ['interval', 'start_date', 'end_date'])\n",
    "test_eq(date_diff('month', Field('date1'), Field('date2')).get_sql(), 'DATE_DIFF(month, date1, date2)')"
   ]
  },
  {
   "cell_type": "code",
   "execution_count": null,
   "metadata": {},
   "outputs": [],
   "source": []
  }
 ],
 "metadata": {
  "kernelspec": {
   "display_name": "python3",
   "language": "python",
   "name": "python3"
  }
 },
 "nbformat": 4,
 "nbformat_minor": 2
}
