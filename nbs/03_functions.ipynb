{
 "cells": [
  {
   "attachments": {},
   "cell_type": "markdown",
   "metadata": {},
   "source": [
    "# Functions\n",
    "\n",
    "> Some commonly used SQL Functions."
   ]
  },
  {
   "cell_type": "code",
   "execution_count": null,
   "metadata": {},
   "outputs": [],
   "source": [
    "#| default_exp functions\n",
    "#| hide\n",
    "from nbdev.showdoc import *\n",
    "from fastcore.test import *\n",
    "# allow multiple output from one cell\n",
    "from IPython.core.interactiveshell import InteractiveShell\n",
    "InteractiveShell.ast_node_interactivity = \"all\"\n",
    "%reload_ext autoreload\n",
    "%autoreload 2"
   ]
  },
  {
   "cell_type": "code",
   "execution_count": null,
   "metadata": {},
   "outputs": [],
   "source": [
    "#|export\n",
    "from fastcore.all import patch, delegates\n",
    "from pikaQ.utils import execute\n",
    "from pikaQ.terms import FieldBase, Field, custom_func, OverClause"
   ]
  },
  {
   "attachments": {},
   "cell_type": "markdown",
   "metadata": {},
   "source": [
    "# Custom Function"
   ]
  },
  {
   "cell_type": "code",
   "execution_count": null,
   "metadata": {},
   "outputs": [],
   "source": [
    "#|export\n",
    "class CustomFunction(FieldBase):\n",
    "    \"\"\"A convenient class for creating custom functions.\"\"\"\n",
    "\n",
    "    def __init__(self, \n",
    "                 func_name: str,    # name of the function \n",
    "                 arg_names: list,   # list of arg names\n",
    "                 window_func=False,  # whether this can be used as a window function\n",
    "                 distinct_option=False # whether this function can be used with the distinct option\n",
    "        ) -> None:\n",
    "        import inspect\n",
    "        super().__init__()\n",
    "        self.func_name = func_name\n",
    "        self.arg_names = arg_names\n",
    "        self.window_func = window_func\n",
    "        self.distinct_option = distinct_option\n",
    "        self.distinct_ = False  # whether the distinct option is used\n",
    "        self.get_sql = self.execute\n",
    "        self.__qualname__ = func_name\n",
    "        self.__signature__ = inspect.Signature(parameters=[inspect.Parameter(name, inspect.Parameter.POSITIONAL_OR_KEYWORD) for name in arg_names]) \n",
    "        self.__doc__ = f\"Custom function {func_name} with args {arg_names}\"\n",
    "\n",
    "    def __call__(self, *args):\n",
    "        if len(args) != len(self.arg_names):\n",
    "            raise ValueError(f\"The number of args provided {len(args)} is not the same as the number of args expected by this function ({len(self.arg_names)})!\")\n",
    "        def func(*args):\n",
    "            if self.distinct_:\n",
    "                return f\"{self.func_name}(DISTINCT {', '.join(args)})\"\n",
    "            else:\n",
    "                return f\"{self.func_name}({', '.join(args)})\"\n",
    "\n",
    "        self.func = func\n",
    "        self.args = args\n",
    "        return self\n",
    "\n",
    "    def execute(self, **kwargs):\n",
    "        args = [str(execute(arg, **kwargs)) for arg in self.args]\n",
    "        return self.func(*args)\n",
    "\n",
    "    def distinct(self):\n",
    "        if self.distinct_option==True:\n",
    "            self.distinct_ = True\n",
    "            return self\n",
    "        else:\n",
    "            raise ValueError(f\"This function does not support the distinct option!!\")\n",
    "\n",
    "\n",
    "@patch\n",
    "def over(self:CustomFunction, partition_by):\n",
    "    if self.window_func==True:\n",
    "        return OverClause(self).over(partition_by)\n",
    "    else:\n",
    "        raise ValueError(f\"This function is not a window function!!\")"
   ]
  },
  {
   "cell_type": "code",
   "execution_count": null,
   "metadata": {},
   "outputs": [
    {
     "data": {
      "text/markdown": [
       "---\n",
       "\n",
       "[source](https://github.com/feynlee/pikaQ/blob/master/pikaQ/functions.py#L15){target=\"_blank\" style=\"float:right; font-size:smaller\"}\n",
       "\n",
       "### CustomFunction\n",
       "\n",
       ">      CustomFunction (func_name:str, arg_names:list, window_func=False,\n",
       ">                      distinct_option=False)\n",
       "\n",
       "A convenient class for creating custom functions.\n",
       "\n",
       "|    | **Type** | **Default** | **Details** |\n",
       "| -- | -------- | ----------- | ----------- |\n",
       "| func_name | str |  | name of the function |\n",
       "| arg_names | list |  | list of arg names |\n",
       "| window_func | bool | False | whether this can be used as a window function |\n",
       "| distinct_option | bool | False | whether this function can be used with the distinct option |\n",
       "| **Returns** | **None** |  |  |"
      ],
      "text/plain": [
       "---\n",
       "\n",
       "[source](https://github.com/feynlee/pikaQ/blob/master/pikaQ/functions.py#L15){target=\"_blank\" style=\"float:right; font-size:smaller\"}\n",
       "\n",
       "### CustomFunction\n",
       "\n",
       ">      CustomFunction (func_name:str, arg_names:list, window_func=False,\n",
       ">                      distinct_option=False)\n",
       "\n",
       "A convenient class for creating custom functions.\n",
       "\n",
       "|    | **Type** | **Default** | **Details** |\n",
       "| -- | -------- | ----------- | ----------- |\n",
       "| func_name | str |  | name of the function |\n",
       "| arg_names | list |  | list of arg names |\n",
       "| window_func | bool | False | whether this can be used as a window function |\n",
       "| distinct_option | bool | False | whether this function can be used with the distinct option |\n",
       "| **Returns** | **None** |  |  |"
      ]
     },
     "execution_count": null,
     "metadata": {},
     "output_type": "execute_result"
    }
   ],
   "source": [
    "show_doc(CustomFunction)"
   ]
  },
  {
   "cell_type": "code",
   "execution_count": null,
   "metadata": {},
   "outputs": [
    {
     "data": {
      "text/markdown": [
       "---\n",
       "\n",
       "### MAX\n",
       "\n",
       ">      MAX (field)\n",
       "\n",
       "Custom function MAX with args ['field']"
      ],
      "text/plain": [
       "---\n",
       "\n",
       "### MAX\n",
       "\n",
       ">      MAX (field)\n",
       "\n",
       "Custom function MAX with args ['field']"
      ]
     },
     "execution_count": null,
     "metadata": {},
     "output_type": "execute_result"
    }
   ],
   "source": [
    "#|hide\n",
    "#|eval: false\n",
    "Max = CustomFunction('MAX', ['field'], window_func=True, distinct_option=True)\n",
    "\n",
    "show_doc(Max)"
   ]
  },
  {
   "attachments": {},
   "cell_type": "markdown",
   "metadata": {},
   "source": [
    "`CustomFunction` is a convenient class to create a custom SQL function with the name, and positional arguments, if you don't need the function to be parsed differently for different dialects."
   ]
  },
  {
   "cell_type": "code",
   "execution_count": null,
   "metadata": {},
   "outputs": [],
   "source": [
    "date_diff = CustomFunction('DATE_DIFF', ['interval', 'start_date', 'end_date'])\n",
    "test_eq(date_diff('day', 'start_date', 'end_date').get_sql(), 'DATE_DIFF(day, start_date, end_date)')"
   ]
  },
  {
   "cell_type": "code",
   "execution_count": null,
   "metadata": {},
   "outputs": [],
   "source": [
    "date_diff = CustomFunction('DATE_DIFF', ['interval', 'start_date', 'end_date'])\n",
    "test_eq(date_diff('month', Field('date1'), Field('date2')).get_sql(), 'DATE_DIFF(month, date1, date2)')"
   ]
  },
  {
   "attachments": {},
   "cell_type": "markdown",
   "metadata": {},
   "source": [
    "## Commonly Used Functions"
   ]
  },
  {
   "cell_type": "code",
   "execution_count": null,
   "metadata": {},
   "outputs": [],
   "source": [
    "#|export\n",
    "Max = CustomFunction('MAX', ['field'], window_func=True, distinct_option=True)\n",
    "Min = CustomFunction('MIN', ['field'], window_func=True, distinct_option=True)\n",
    "Sum = CustomFunction('SUM', ['field'], window_func=True, distinct_option=True)\n",
    "Avg = CustomFunction('AVG', ['field'], window_func=True, distinct_option=True)\n",
    "Count = CustomFunction('COUNT', ['field'], window_func=True, distinct_option=True)\n",
    "Abs = CustomFunction('ABS', ['field'])\n",
    "Round = CustomFunction('ROUND', ['field', 'decimals'])\n",
    "First = CustomFunction('FIRST', ['field'])\n",
    "Last = CustomFunction('LAST', ['field'])\n",
    "\n",
    "@custom_func\n",
    "def Cast(field, type):\n",
    "    return f\"CAST({field} AS {type})\"\n",
    "\n",
    "@custom_func\n",
    "def Coalesce(*args):\n",
    "    return f\"COALESCE({', '.join(args)})\"\n",
    "\n",
    "@custom_func\n",
    "def Concat(*args):\n",
    "    return f\"CONCAT({', '.join(args)})\"\n",
    "\n",
    "\n",
    "# date functions\n",
    "def convert_date_format(format, dialect='sql'):\n",
    "    if dialect == 'spark':\n",
    "        return (format.replace('YYYY', 'yyyy')\n",
    "                .replace('YY', 'yy')\n",
    "                .replace('DD', 'dd')\n",
    "                )\n",
    "    elif dialect == 'snowflake':\n",
    "        return (format.replace('HH', 'HH24')\n",
    "                .replace('mm', 'MI')\n",
    "        )\n",
    "    else:\n",
    "        return format\n",
    "\n",
    "@custom_func\n",
    "def Date(expression, format=None, dialect='sql'):\n",
    "    if format:\n",
    "        format = convert_date_format(format, dialect)\n",
    "        return f\"DATE('{expression}', '{format}')\"\n",
    "    else:\n",
    "        return f\"DATE('{expression}')\"\n",
    "\n",
    "@custom_func\n",
    "def AddMonths(date, months, dialect='sql'):\n",
    "    if dialect in ['snowflake', 'spark']:\n",
    "        return f\"ADD_MONTHS({date}, {months})\"\n",
    "    elif dialect == 'athena':\n",
    "        return f\"date_add('month', {months}, {date})\"\n",
    "    else:\n",
    "        return f\"DATE_ADD({date}, INTERVAL {months} MONTH)\"\n",
    "\n",
    "@custom_func\n",
    "def DateDiff(interval, start_date, end_date, dialect='sql'):\n",
    "    if dialect == 'athena':\n",
    "        return f\"date_diff('{interval}', {start_date}, {end_date})\"\n",
    "    else:\n",
    "        return f\"DATEDIFF({interval}, {start_date}, {end_date})\"\n",
    "\n",
    "@custom_func\n",
    "def DateTrunc(interval, date, dialect='sql'):\n",
    "    if dialect == 'spark':\n",
    "        return f\"TRUNC({date}, '{interval}')\"\n",
    "    else:\n",
    "        return f\"DATE_TRUNC('{interval}', {date})\"\n",
    "\n",
    "MonthsBetween = CustomFunction('MONTHS_BETWEEN', ['start_date', 'end_date'])\n",
    "\n",
    "# Window Functions\n",
    "RowNumber = CustomFunction('ROW_NUMBER', [], window_func=True)\n",
    "Rank = CustomFunction('RANK', [], window_func=True)\n",
    "DenseRank = CustomFunction('DENSE_RANK', [], window_func=True)\n",
    "PercentRank = CustomFunction('PERCENT_RANK', [], window_func=True)\n",
    "CumeDist = CustomFunction('CUME_DIST', [], window_func=True)\n",
    "Ntile = CustomFunction('NTILE', ['num_buckets'], window_func=True)\n",
    "Lag = CustomFunction('LAG', ['field', 'offset'], window_func=True)\n",
    "Lead = CustomFunction('LEAD', ['field', 'offset'], window_func=True)\n",
    "FirstValue = CustomFunction('FIRST_VALUE', ['field'], window_func=True)\n",
    "LastValue = CustomFunction('LAST_VALUE', ['field'], window_func=True)\n",
    "NthValue = CustomFunction('NTH_VALUE', ['field', 'n'], window_func=True)"
   ]
  },
  {
   "cell_type": "code",
   "execution_count": null,
   "metadata": {},
   "outputs": [
    {
     "data": {
      "text/markdown": [
       "---\n",
       "\n",
       "### ROW_NUMBER\n",
       "\n",
       ">      ROW_NUMBER ()\n",
       "\n",
       "Custom function ROW_NUMBER with args []"
      ],
      "text/plain": [
       "---\n",
       "\n",
       "### ROW_NUMBER\n",
       "\n",
       ">      ROW_NUMBER ()\n",
       "\n",
       "Custom function ROW_NUMBER with args []"
      ]
     },
     "execution_count": null,
     "metadata": {},
     "output_type": "execute_result"
    }
   ],
   "source": [
    "show_doc(RowNumber)"
   ]
  },
  {
   "cell_type": "code",
   "execution_count": null,
   "metadata": {},
   "outputs": [],
   "source": [
    "test_eq(RowNumber().over(Field('col1')).orderby(Field('col2')).get_sql(), 'ROW_NUMBER() OVER (PARTITION BY col1 ORDER BY col2)')\n",
    "test_eq(Rank().over(Field('col1')).orderby(Field('col2')).get_sql(), \n",
    "        'RANK() OVER (PARTITION BY col1 ORDER BY col2)')\n",
    "test_eq(DenseRank().over(Field('col1')).orderby(Field('col2')).get_sql(),\n",
    "        'DENSE_RANK() OVER (PARTITION BY col1 ORDER BY col2)')\n",
    "test_eq(PercentRank().over(Field('col1')).orderby(Field('col2')).get_sql(),\n",
    "        'PERCENT_RANK() OVER (PARTITION BY col1 ORDER BY col2)')\n",
    "test_eq(CumeDist().over(Field('col1')).orderby(Field('col2')).get_sql(),\n",
    "        'CUME_DIST() OVER (PARTITION BY col1 ORDER BY col2)')\n",
    "test_eq(Ntile(5).over(Field('col1')).orderby(Field('col2')).get_sql(),\n",
    "        'NTILE(5) OVER (PARTITION BY col1 ORDER BY col2)')\n",
    "test_eq(Lag(Field('col1'), 1).over(Field('col2')).orderby(Field('col3')).get_sql(),\n",
    "        'LAG(col1, 1) OVER (PARTITION BY col2 ORDER BY col3)')\n",
    "test_eq(Lead(Field('col1'), 1).over(Field('col2')).orderby(Field('col3')).get_sql(),\n",
    "        'LEAD(col1, 1) OVER (PARTITION BY col2 ORDER BY col3)')\n",
    "test_eq(FirstValue(Field('col1')).over(Field('col2')).orderby(Field('col3')).get_sql(),\n",
    "        'FIRST_VALUE(col1) OVER (PARTITION BY col2 ORDER BY col3)')\n",
    "test_eq(LastValue(Field('col1')).over(Field('col2')).orderby(Field('col3')).get_sql(),\n",
    "        'LAST_VALUE(col1) OVER (PARTITION BY col2 ORDER BY col3)')\n",
    "test_eq(NthValue(Field('col1'), 2).over(Field('col2')).orderby(Field('col3')).get_sql(),\n",
    "        'NTH_VALUE(col1, 2) OVER (PARTITION BY col2 ORDER BY col3)')\n",
    "test_eq(Count(Field('col1')).over(Field('col2')).orderby(Field('col3')).get_sql(),\n",
    "        'COUNT(col1) OVER (PARTITION BY col2 ORDER BY col3)')\n",
    "test_eq(Sum(Field('col1')).over(Field('col2')).orderby(Field('col3')).get_sql(),\n",
    "        'SUM(col1) OVER (PARTITION BY col2 ORDER BY col3)')\n",
    "test_eq(Avg(Field('col1')).over(Field('col2')).orderby(Field('col3')).get_sql(),\n",
    "        'AVG(col1) OVER (PARTITION BY col2 ORDER BY col3)')\n",
    "test_eq(Min(Field('col1')).over(Field('col2')).orderby(Field('col3')).get_sql(),\n",
    "        'MIN(col1) OVER (PARTITION BY col2 ORDER BY col3)')\n",
    "test_eq(Max(Field('col1')).over(Field('col2')).orderby(Field('col3')).get_sql(),\n",
    "        'MAX(col1) OVER (PARTITION BY col2 ORDER BY col3)')"
   ]
  },
  {
   "cell_type": "code",
   "execution_count": null,
   "metadata": {},
   "outputs": [],
   "source": [
    "test_eq(Count(Field('col')).distinct().get_sql(), 'COUNT(DISTINCT col)')\n",
    "test_eq(Sum(Field('col')).distinct().get_sql(), 'SUM(DISTINCT col)')"
   ]
  },
  {
   "cell_type": "code",
   "execution_count": null,
   "metadata": {},
   "outputs": [],
   "source": [
    "#|hide\n",
    "import nbdev; nbdev.nbdev_export()"
   ]
  },
  {
   "cell_type": "code",
   "execution_count": null,
   "metadata": {},
   "outputs": [],
   "source": []
  }
 ],
 "metadata": {
  "kernelspec": {
   "display_name": "python3",
   "language": "python",
   "name": "python3"
  }
 },
 "nbformat": 4,
 "nbformat_minor": 4
}
