{
 "cells": [
  {
   "cell_type": "code",
   "execution_count": 1,
   "metadata": {},
   "outputs": [],
   "source": [
    "#| default_exp utils\n",
    "#| hide\n",
    "#| eval: false\n",
    "%reload_ext autoreload\n",
    "%autoreload 2"
   ]
  },
  {
   "cell_type": "code",
   "execution_count": 2,
   "metadata": {},
   "outputs": [],
   "source": [
    "#| hide\n",
    "from nbdev.showdoc import *\n",
    "from fastcore.test import *\n",
    "# allow multiple output from one cell\n",
    "from IPython.core.interactiveshell import InteractiveShell\n",
    "InteractiveShell.ast_node_interactivity = \"all\""
   ]
  },
  {
   "cell_type": "markdown",
   "metadata": {},
   "source": [
    "# Utilities\n",
    "> Utility functions"
   ]
  },
  {
   "cell_type": "code",
   "execution_count": 3,
   "metadata": {},
   "outputs": [],
   "source": [
    "#| export\n",
    "def quote_symbol(quote):\n",
    "    \"\"\"generate quote symbol to use for tables and columns\"\"\"\n",
    "    if type(quote) == str:\n",
    "        return quote\n",
    "    else:\n",
    "        if quote == True:\n",
    "            return '\"'\n",
    "        else:\n",
    "            return ''\n",
    "\n",
    "\n",
    "def to_sql(l):\n",
    "    if type(l) == list:\n",
    "        return '(' + ', '.join([f\"{item}\" if type(item) in (int, float) else f\"'{item}'\" for item in l]) + ')'\n",
    "    else:\n",
    "        raise ValueError(f\"type {type(l)} for l is not implemented!\")\n",
    "    return l\n",
    "\n",
    "\n",
    "def exec(obj, func=None, **kwargs):\n",
    "    \"\"\"Call the exec method of `obj` if it exists, otherwise return the string representation of `obj`\"\"\"\n",
    "    if hasattr(obj, 'exec'):\n",
    "        return obj.exec(**kwargs)\n",
    "    else:\n",
    "        if func:\n",
    "            return func(obj)\n",
    "        else:\n",
    "            return obj\n",
    "\n",
    "\n",
    "def get_sql(obj, **kwargs):\n",
    "    return exec(obj, func=str, **kwargs)"
   ]
  },
  {
   "cell_type": "code",
   "execution_count": 4,
   "metadata": {},
   "outputs": [],
   "source": [
    "l = [23, 42]\n",
    "test_eq(to_sql(l), '(23, 42)')\n",
    "l = ['category1', 'category2']\n",
    "test_eq(to_sql(l), \"('category1', 'category2')\")"
   ]
  },
  {
   "cell_type": "code",
   "execution_count": 6,
   "metadata": {},
   "outputs": [],
   "source": [
    "#|hide\n",
    "import nbdev; nbdev.nbdev_export()"
   ]
  },
  {
   "cell_type": "code",
   "execution_count": null,
   "metadata": {},
   "outputs": [],
   "source": []
  }
 ],
 "metadata": {
  "kernelspec": {
   "display_name": "py311",
   "language": "python",
   "name": "python3"
  },
  "language_info": {
   "codemirror_mode": {
    "name": "ipython",
    "version": 3
   },
   "file_extension": ".py",
   "mimetype": "text/x-python",
   "name": "python",
   "nbconvert_exporter": "python",
   "pygments_lexer": "ipython3",
   "version": "3.11.3"
  }
 },
 "nbformat": 4,
 "nbformat_minor": 2
}
