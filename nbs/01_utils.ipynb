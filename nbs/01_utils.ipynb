{
 "cells": [
  {
   "cell_type": "code",
   "execution_count": null,
   "metadata": {},
   "outputs": [],
   "source": [
    "#| default_exp utils\n",
    "#| hide\n",
    "from nbdev.showdoc import *\n",
    "from fastcore.test import *\n",
    "# allow multiple output from one cell\n",
    "from IPython.core.interactiveshell import InteractiveShell\n",
    "InteractiveShell.ast_node_interactivity = \"all\"\n",
    "%reload_ext autoreload\n",
    "%autoreload 2"
   ]
  },
  {
   "attachments": {},
   "cell_type": "markdown",
   "metadata": {},
   "source": [
    "# Utilities\n",
    "> Utility functions"
   ]
  },
  {
   "cell_type": "code",
   "execution_count": null,
   "metadata": {},
   "outputs": [],
   "source": [
    "#| export\n",
    "def quote_symbol(quote):\n",
    "    \"\"\"generate quote symbol to use for tables and columns\"\"\"\n",
    "    if type(quote) == str:\n",
    "        return quote\n",
    "    else:\n",
    "        if quote == True:\n",
    "            return '\"'\n",
    "        else:\n",
    "            return ''\n",
    "\n",
    "\n",
    "def to_sql(l):\n",
    "    if type(l) == list:\n",
    "        return '(' + ', '.join([f\"{item}\" if type(item) in (int, float) else f\"'{item}'\" for item in l]) + ')'\n",
    "    else:\n",
    "        raise ValueError(f\"type {type(l)} for l is not implemented!\")\n",
    "    return l\n",
    "\n",
    "\n",
    "def execute(obj, **kwargs):\n",
    "    \"\"\"Call the exec method of `obj` if it exists, otherwise return the string representation of `obj`\"\"\"\n",
    "    if hasattr(obj, 'execute'):\n",
    "        return obj.execute(**kwargs)\n",
    "    else:\n",
    "        return obj"
   ]
  },
  {
   "cell_type": "code",
   "execution_count": null,
   "metadata": {},
   "outputs": [],
   "source": [
    "l = [23, 42]\n",
    "test_eq(to_sql(l), '(23, 42)')\n",
    "l = ['category1', 'category2']\n",
    "test_eq(to_sql(l), \"('category1', 'category2')\")"
   ]
  },
  {
   "cell_type": "code",
   "execution_count": null,
   "metadata": {},
   "outputs": [],
   "source": [
    "#|export\n",
    "def delegates(to):\n",
    "    \"\"\"Decorator: replace func name, signature and docstring with `to`'s.\"\"\"\n",
    "    import inspect\n",
    "    from fastcore.docments import qual_name\n",
    "    def _f(f):\n",
    "        f.__name__ = to.__name__\n",
    "        f.__qualname__ = qual_name(to)\n",
    "        f.__signature__ = inspect.signature(to)\n",
    "        f.__doc__ = to.__doc__\n",
    "        return f\n",
    "    return _f"
   ]
  },
  {
   "cell_type": "code",
   "execution_count": null,
   "metadata": {},
   "outputs": [
    {
     "data": {
      "text/markdown": [
       "---\n",
       "\n",
       "### func1\n",
       "\n",
       ">      func1 (a, b, c=1)\n",
       "\n",
       "func1 docstring"
      ],
      "text/plain": [
       "---\n",
       "\n",
       "### func1\n",
       "\n",
       ">      func1 (a, b, c=1)\n",
       "\n",
       "func1 docstring"
      ]
     },
     "execution_count": null,
     "metadata": {},
     "output_type": "execute_result"
    }
   ],
   "source": [
    "#|hide\n",
    "def outer(func):\n",
    "    @delegates(to=func)\n",
    "    def wrapper(func, *args, **kwargs):\n",
    "        \"\"\"Dummy wrapper docstring\"\"\"\n",
    "        return func(*args, **kwargs)\n",
    "    return wrapper\n",
    "\n",
    "\n",
    "@outer\n",
    "def func1(a, b, c=1):\n",
    "    \"\"\"func1 docstring\"\"\"\n",
    "    return a + b - c\n",
    "\n",
    "show_doc(func1)"
   ]
  },
  {
   "cell_type": "code",
   "execution_count": null,
   "metadata": {},
   "outputs": [],
   "source": [
    "#|hide\n",
    "import nbdev; nbdev.nbdev_export()"
   ]
  },
  {
   "cell_type": "code",
   "execution_count": null,
   "metadata": {},
   "outputs": [],
   "source": []
  }
 ],
 "metadata": {
  "kernelspec": {
   "display_name": "python3",
   "language": "python",
   "name": "python3"
  }
 },
 "nbformat": 4,
 "nbformat_minor": 2
}
