{
 "cells": [
  {
   "attachments": {},
   "cell_type": "markdown",
   "metadata": {},
   "source": [
    "# Delayed\n",
    "\n",
    "> Classes to delay execution of functions and methods."
   ]
  },
  {
   "cell_type": "code",
   "execution_count": 1,
   "metadata": {},
   "outputs": [],
   "source": [
    "#| default_exp core\n",
    "#| hide\n",
    "#| eval: false\n",
    "%reload_ext autoreload\n",
    "%autoreload 2"
   ]
  },
  {
   "cell_type": "code",
   "execution_count": 7,
   "metadata": {},
   "outputs": [],
   "source": [
    "#| export\n",
    "import inspect\n",
    "\n",
    "from functools import partial\n",
    "from fastcore.basics import *\n",
    "from fastcore.meta import *\n",
    "from typing import Union\n",
    "from pikaQ.utils import *\n",
    "\n",
    "try: from types import UnionType\n",
    "except ImportError: UnionType = None"
   ]
  },
  {
   "cell_type": "code",
   "execution_count": 8,
   "metadata": {},
   "outputs": [],
   "source": [
    "#| hide\n",
    "from nbdev.showdoc import *\n",
    "from fastcore.test import *\n",
    "# allow multiple output from one cell\n",
    "from IPython.core.interactiveshell import InteractiveShell\n",
    "InteractiveShell.ast_node_interactivity = \"all\""
   ]
  },
  {
   "attachments": {},
   "cell_type": "markdown",
   "metadata": {},
   "source": [
    "We can easily delay the execution of a function by storing the function definition, its arguments and keyword arguments in a `DelayedFunc` object.\n",
    "The `exec` method on the object can then be called later to execute the function.\n",
    "During the execution of the function, we can provide keyword arguments to override the ones that were provided when the `DelayedFunc` object was created."
   ]
  },
  {
   "cell_type": "code",
   "execution_count": 12,
   "metadata": {},
   "outputs": [],
   "source": [
    "#| export\n",
    "class DelayedFunc:\n",
    "    \"\"\"Delay the execution of stored function until exec is run.\"\"\"\n",
    "    def __init__(self, func, args, kwargs, order=None) -> None: \n",
    "        store_attr()\n",
    "\n",
    "    def exec(self, func=None, **kwargs):\n",
    "        \"\"\"keyword arguments can be overwritten with any provided new kwargs.\"\"\"\n",
    "        self.kwargs.update(kwargs)\n",
    "        # recursively resolve all delayed functions\n",
    "        args = (exec(arg, func, **self.kwargs) for arg in self.args) \n",
    "        return self.func(*args, **self.kwargs)\n",
    "\n",
    "\n",
    "class DelayedTerm(DelayedFunc):\n",
    "    \"\"\"Delay the generation of sql terms until get_sql is run.\"\"\"\n",
    "    def __init__(self, func, args, kwargs, order=None) -> None:\n",
    "        super().__init__(func, args, kwargs, order)\n",
    "\n",
    "    def get_sql(self, **kwargs):\n",
    "        return self.exec(func=str, **kwargs)"
   ]
  },
  {
   "cell_type": "code",
   "execution_count": 17,
   "metadata": {},
   "outputs": [],
   "source": [
    "def multiply(x, multiplier=2):\n",
    "    return x * multiplier\n",
    "\n",
    "\n",
    "def add_months(column, num, dialect='sql'):\n",
    "    if dialect=='sql':\n",
    "        return f'DATE_ADD(month, {num}, {column})'\n",
    "    elif dialect=='snowflake':\n",
    "        return f'ADD_MONTHS({column}, {num})'\n",
    "\n",
    "\n",
    "def to_date(date, format=None, dialect='sql'):\n",
    "    if dialect in ('sql', 'snowflake'):\n",
    "        if format is None:\n",
    "            return f\"TO_DATE('{date}')\"\n",
    "        else:\n",
    "            return f\"TO_DATE('{date}', '{format}')\"\n",
    "    \n",
    "\n",
    "test_eq(DelayedFunc(multiply, (2,), {'multiplier': 3}).exec(multiplier=4), 8)\n",
    "\n",
    "dl_to_date = DelayedTerm(to_date, ('2020-01-01',), {})\n",
    "dl_add_months = DelayedTerm(add_months, (dl_to_date, 1), {})\n",
    "\n",
    "test_eq(\n",
    "    dl_add_months.get_sql(dialect='snowflake'),\n",
    "    \"ADD_MONTHS(TO_DATE('2020-01-01'), 1)\")\n",
    "test_eq(\n",
    "    dl_add_months.get_sql(dialect='sql'),\n",
    "    \"DATE_ADD(month, 1, TO_DATE('2020-01-01'))\")\n"
   ]
  },
  {
   "attachments": {},
   "cell_type": "markdown",
   "metadata": {},
   "source": [
    "\n",
    "However, this is not enough for our purpose. We also need the ability to delay all instance methods until `.exec` is called. To expand this functionality, we introduce `DelayedPipeline` and the decorator `@delayed_methods`."
   ]
  },
  {
   "cell_type": "code",
   "execution_count": 18,
   "metadata": {},
   "outputs": [],
   "source": [
    "#|hide\n",
    "import nbdev; nbdev.nbdev_export()"
   ]
  },
  {
   "cell_type": "code",
   "execution_count": null,
   "metadata": {},
   "outputs": [],
   "source": []
  }
 ],
 "metadata": {
  "kernelspec": {
   "display_name": "python3",
   "language": "python",
   "name": "python3"
  },
  "language_info": {
   "codemirror_mode": {
    "name": "ipython",
    "version": 3
   },
   "file_extension": ".py",
   "mimetype": "text/x-python",
   "name": "python",
   "nbconvert_exporter": "python",
   "pygments_lexer": "ipython3",
   "version": "3.11.3"
  }
 },
 "nbformat": 4,
 "nbformat_minor": 2
}
